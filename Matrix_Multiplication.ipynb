{
  "nbformat": 4,
  "nbformat_minor": 0,
  "metadata": {
    "colab": {
      "provenance": [],
      "gpuType": "T4"
    },
    "kernelspec": {
      "name": "python3",
      "display_name": "Python 3"
    },
    "language_info": {
      "name": "python"
    },
    "accelerator": "GPU",
    "gpuClass": "standard"
  },
  "cells": [
    {
      "cell_type": "code",
      "execution_count": 1,
      "metadata": {
        "id": "90tUQ4ralGOO"
      },
      "outputs": [],
      "source": [
        "def matmul_cpu(A, B):\n",
        "    m, k = A.shape\n",
        "    k, n = B.shape\n",
        "    C = np.zeros((m, n))\n",
        "    for i in range(m):\n",
        "        for j in range(n):\n",
        "            for l in range(k):\n",
        "                C[i, j] += A[i, l] * B[l, j]\n",
        "    return C\n"
      ]
    },
    {
      "cell_type": "code",
      "source": [
        "!pip install pycuda\n",
        "import pycuda.driver as cuda\n",
        "import pycuda.autoinit\n",
        "from pycuda.compiler import SourceModule\n",
        "\n",
        "mod = SourceModule(\"\"\"\n",
        "    __global__ void matmul(float *A, float *B, float *C, int m, int k, int n) {\n",
        "        int i = blockIdx.x * blockDim.x + threadIdx.x;\n",
        "        int j = blockIdx.y * blockDim.y + threadIdx.y;\n",
        "        if (i < m && j < n) {\n",
        "            float sum = 0;\n",
        "            for (int l = 0; l < k; l++) {\n",
        "                sum += A[i * k + l] * B[l * n + j];\n",
        "            }\n",
        "            C[i * n + j] = sum;\n",
        "        }\n",
        "    }\n",
        "\"\"\")\n",
        "\n",
        "def matmul_gpu(A, B):\n",
        "    m, k = A.shape\n",
        "    k, n = B.shape\n",
        "    C = np.zeros((m, n)).astype(np.float32)\n",
        "\n",
        "    block_size = (32, 32,1)\n",
        "    grid_size = ((m + block_size[0] - 1) // block_size[0], (n + block_size[1] - 1) // block_size[1])\n",
        "\n",
        "    func = mod.get_function(\"matmul\")\n",
        "    func(cuda.In(A), cuda.In(B), cuda.Out(C), np.int32(m), np.int32(k), np.int32(n), block=block_size, grid=grid_size)\n",
        "\n",
        "    return C\n"
      ],
      "metadata": {
        "colab": {
          "base_uri": "https://localhost:8080/"
        },
        "id": "rILR4M55lL36",
        "outputId": "34418602-1b38-482a-a5db-ac2512e41710"
      },
      "execution_count": 2,
      "outputs": [
        {
          "output_type": "stream",
          "name": "stdout",
          "text": [
            "Looking in indexes: https://pypi.org/simple, https://us-python.pkg.dev/colab-wheels/public/simple/\n",
            "Collecting pycuda\n",
            "  Downloading pycuda-2022.2.2.tar.gz (1.7 MB)\n",
            "\u001b[2K     \u001b[90m━━━━━━━━━━━━━━━━━━━━━━━━━━━━━━━━━━━━━━━━\u001b[0m \u001b[32m1.7/1.7 MB\u001b[0m \u001b[31m47.4 MB/s\u001b[0m eta \u001b[36m0:00:00\u001b[0m\n",
            "\u001b[?25h  Installing build dependencies ... \u001b[?25l\u001b[?25hdone\n",
            "  Getting requirements to build wheel ... \u001b[?25l\u001b[?25hdone\n",
            "  Preparing metadata (pyproject.toml) ... \u001b[?25l\u001b[?25hdone\n",
            "Collecting pytools>=2011.2 (from pycuda)\n",
            "  Downloading pytools-2022.1.14.tar.gz (74 kB)\n",
            "\u001b[2K     \u001b[90m━━━━━━━━━━━━━━━━━━━━━━━━━━━━━━━━━━━━━━━━\u001b[0m \u001b[32m74.6/74.6 kB\u001b[0m \u001b[31m3.4 MB/s\u001b[0m eta \u001b[36m0:00:00\u001b[0m\n",
            "\u001b[?25h  Preparing metadata (setup.py) ... \u001b[?25l\u001b[?25hdone\n",
            "Requirement already satisfied: appdirs>=1.4.0 in /usr/local/lib/python3.10/dist-packages (from pycuda) (1.4.4)\n",
            "Collecting mako (from pycuda)\n",
            "  Downloading Mako-1.2.4-py3-none-any.whl (78 kB)\n",
            "\u001b[2K     \u001b[90m━━━━━━━━━━━━━━━━━━━━━━━━━━━━━━━━━━━━━━━━\u001b[0m \u001b[32m78.7/78.7 kB\u001b[0m \u001b[31m11.1 MB/s\u001b[0m eta \u001b[36m0:00:00\u001b[0m\n",
            "\u001b[?25hRequirement already satisfied: platformdirs>=2.2.0 in /usr/local/lib/python3.10/dist-packages (from pytools>=2011.2->pycuda) (3.3.0)\n",
            "Requirement already satisfied: typing_extensions>=4.0 in /usr/local/lib/python3.10/dist-packages (from pytools>=2011.2->pycuda) (4.5.0)\n",
            "Requirement already satisfied: MarkupSafe>=0.9.2 in /usr/local/lib/python3.10/dist-packages (from mako->pycuda) (2.1.2)\n",
            "Building wheels for collected packages: pycuda, pytools\n",
            "  Building wheel for pycuda (pyproject.toml) ... \u001b[?25l\u001b[?25hdone\n",
            "  Created wheel for pycuda: filename=pycuda-2022.2.2-cp310-cp310-linux_x86_64.whl size=661975 sha256=9cbd3823108ef6058e441285112d917df97b4796d341d252504bca2e588f3ba0\n",
            "  Stored in directory: /root/.cache/pip/wheels/1d/7b/06/82a395a243fce00035dea9914d92bbef0013401497d849f8bc\n",
            "  Building wheel for pytools (setup.py) ... \u001b[?25l\u001b[?25hdone\n",
            "  Created wheel for pytools: filename=pytools-2022.1.14-py2.py3-none-any.whl size=69855 sha256=e9e23c683d0fb9e55423a964cd955e956bfee5295fd0d904a42f28f3257a795e\n",
            "  Stored in directory: /root/.cache/pip/wheels/19/02/16/aa2498ad7aa723a149ff7539f1918509661c0ae9d975b44b6d\n",
            "Successfully built pycuda pytools\n",
            "Installing collected packages: pytools, mako, pycuda\n",
            "Successfully installed mako-1.2.4 pycuda-2022.2.2 pytools-2022.1.14\n"
          ]
        }
      ]
    },
    {
      "cell_type": "code",
      "source": [
        "import numpy as np\n",
        "import time\n",
        "\n",
        "# Generate random matrices\n",
        "A = np.random.rand(300,300).astype(np.float32)\n",
        "B = np.random.rand(300,300).astype(np.float32)\n",
        "\n",
        "# Time CPU-only implementation\n",
        "start_time = time.time()\n",
        "C_cpu = matmul_cpu(A, B)\n",
        "end_time = time.time()\n",
        "cpu_time = end_time - start_time\n",
        "print(\"CPU time: {:.3f} s\".format(end_time - start_time))\n",
        "\n",
        "# Time PyCUDA-accelerated implementation\n",
        "start_time = time.time()\n",
        "C_gpu = matmul_gpu(A, B)\n",
        "end_time = time.time()\n",
        "gpu_time = end_time - start_time\n",
        "print(\"GPU time: {:.3f} s\".format(end_time - start_time))\n",
        "\n",
        "# Check that results are the same\n",
        "assert np.allclose(C_cpu, C_gpu)\n"
      ],
      "metadata": {
        "colab": {
          "base_uri": "https://localhost:8080/"
        },
        "id": "QeEhB0AplNni",
        "outputId": "3499a792-f68f-44a8-c2c5-e782e81a2082"
      },
      "execution_count": 15,
      "outputs": [
        {
          "output_type": "stream",
          "name": "stdout",
          "text": [
            "CPU time: 18.514 s\n",
            "GPU time: 0.004 s\n"
          ]
        }
      ]
    },
    {
      "cell_type": "code",
      "source": [
        "import matplotlib.pyplot as plt\n",
        "\n",
        "# ...\n",
        "\n",
        "# Time CPU-only implementation\n",
        "start_time = time.time()\n",
        "C_cpu = matmul_cpu(A, B)\n",
        "end_time = time.time()\n",
        "cpu_time = end_time - start_time\n",
        "print(\"CPU time: {:.3f} s\".format(cpu_time))\n",
        "\n",
        "# Time PyCUDA-accelerated implementation\n",
        "start_time = time.time()\n",
        "C_gpu = matmul_gpu(A, B)\n",
        "end_time = time.time()\n",
        "gpu_time = end_time - start_time\n",
        "print(\"GPU time: {:.3f} s\".format(gpu_time))\n",
        "\n",
        "# Calculate the time difference\n",
        "time_diff = cpu_time - gpu_time\n",
        "\n",
        "# Plot the time difference\n",
        "labels = ['CPU', 'GPU']\n",
        "times = [cpu_time, gpu_time]\n",
        "colors = ['red', 'green']\n",
        "plt.bar(labels, times, color=colors)\n",
        "plt.xlabel('Implementation')\n",
        "plt.ylabel('Time (s)')\n",
        "plt.title('Running Time Comparison')\n",
        "\n",
        "# Add time labels to the plot\n",
        "for i in range(len(labels)):\n",
        "    plt.text(i, times[i], '{} ({:.3f}s)'.format(labels[i], times[i]), ha='center', va='bottom')\n",
        "\n",
        "plt.show()\n",
        "\n",
        "# Print the time difference\n",
        "print(\"Time Difference: {:.3f} s\".format(time_diff))\n"
      ],
      "metadata": {
        "id": "tcbNE7Xrqqzg",
        "colab": {
          "base_uri": "https://localhost:8080/",
          "height": 524
        },
        "outputId": "e907c196-9258-441c-8a8c-26b2227af514"
      },
      "execution_count": 16,
      "outputs": [
        {
          "output_type": "stream",
          "name": "stdout",
          "text": [
            "CPU time: 19.892 s\n",
            "GPU time: 0.003 s\n"
          ]
        },
        {
          "output_type": "display_data",
          "data": {
            "text/plain": [
              "<Figure size 640x480 with 1 Axes>"
            ],
            "image/png": "[encoded data removed]"
          },
          "metadata": {}
        },
        {
          "output_type": "stream",
          "name": "stdout",
          "text": [
            "Time Difference: 19.889 s\n"
          ]
        }
      ]
    },
    {
      "cell_type": "code",
      "source": [],
      "metadata": {
        "id": "su7te99cs_Yi"
      },
      "execution_count": null,
      "outputs": []
    }
  ]
}